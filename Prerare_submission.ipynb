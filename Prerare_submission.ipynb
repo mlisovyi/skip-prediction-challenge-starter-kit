{
 "cells": [
  {
   "cell_type": "code",
   "execution_count": 1,
   "metadata": {
    "ExecuteTime": {
     "end_time": "2018-12-23T08:20:43.890045Z",
     "start_time": "2018-12-23T08:20:42.271081Z"
    }
   },
   "outputs": [
    {
     "name": "stdout",
     "output_type": "stream",
     "text": [
      "['submissions', 'test_set', 'track_features', 'training_set']\n"
     ]
    }
   ],
   "source": [
    "import numpy as np # linear algebra\n",
    "import pandas as pd # data processing, CSV file I/O (e.g. pd.read_csv)\n",
    "pd.set_option('display.max_columns', 500)\n",
    "\n",
    "import keggler as kg\n",
    "from helpers import *\n",
    "#import helpers\n",
    "\n",
    "import matplotlib.pyplot as plt\n",
    "%matplotlib inline\n",
    "import seaborn as sns\n",
    "from tqdm import tqdm\n",
    "\n",
    "import gc\n",
    "gc.enable()\n",
    "\n",
    "import warnings\n",
    "warnings.simplefilter(action='ignore', category=Warning)\n",
    "\n",
    "import os, psutil\n",
    "import glob\n",
    "\n",
    "\n",
    "import logging as logging\n",
    "def ini_log(filename):\n",
    "    logger = logging.getLogger(__name__)\n",
    "    ## avoid multiple printouts due to same handlers added several times\n",
    "    if not logger.handlers:\n",
    "        logger.setLevel(logging.DEBUG)\n",
    "\n",
    "        handlers = [#logging.StreamHandler(None), \n",
    "            logging.FileHandler(filename, 'a')\n",
    "        ]\n",
    "\n",
    "        fmt=logging.Formatter('%(asctime)-15s: %(levelname)s  %(message)s')\n",
    "        for h in handlers:\n",
    "            h.setFormatter(fmt)\n",
    "            logger.addHandler(h)\n",
    "    return logger\n",
    "        \n",
    "log = ini_log('out.log')\n",
    "\n",
    "#PATH='data_mini/'\n",
    "#prefix='_mini'\n",
    "\n",
    "PATH='data/'\n",
    "SUB_PATH='test_set/' #test_set #training_set\n",
    "\n",
    "v_data='v2'\n",
    "v_model='m02'\n",
    "\n",
    "print(os.listdir(PATH))\n"
   ]
  },
  {
   "cell_type": "code",
   "execution_count": 2,
   "metadata": {
    "ExecuteTime": {
     "end_time": "2018-12-23T08:20:43.898402Z",
     "start_time": "2018-12-23T08:20:43.892546Z"
    }
   },
   "outputs": [],
   "source": [
    "half_1_logs = sorted(glob.glob(PATH + SUB_PATH + \"outDD_\"+v_data+\"*.h5\"))\n",
    "half_2_logs = sorted(glob.glob(PATH + SUB_PATH + \"subDD_\"+v_data+\"*.h5\"))"
   ]
  },
  {
   "cell_type": "code",
   "execution_count": 3,
   "metadata": {
    "ExecuteTime": {
     "end_time": "2018-12-23T08:20:43.906481Z",
     "start_time": "2018-12-23T08:20:43.900725Z"
    }
   },
   "outputs": [
    {
     "data": {
      "text/plain": [
       "['data/test_set/outDD_v2_00.h5',\n",
       " 'data/test_set/outDD_v2_01.h5',\n",
       " 'data/test_set/outDD_v2_02.h5']"
      ]
     },
     "execution_count": 3,
     "metadata": {},
     "output_type": "execute_result"
    }
   ],
   "source": [
    "half_1_logs[:3]"
   ]
  },
  {
   "cell_type": "code",
   "execution_count": 4,
   "metadata": {
    "ExecuteTime": {
     "end_time": "2018-12-23T08:20:43.913564Z",
     "start_time": "2018-12-23T08:20:43.908930Z"
    }
   },
   "outputs": [
    {
     "data": {
      "text/plain": [
       "['data/test_set/subDD_v2_00.h5',\n",
       " 'data/test_set/subDD_v2_01.h5',\n",
       " 'data/test_set/subDD_v2_02.h5']"
      ]
     },
     "execution_count": 4,
     "metadata": {},
     "output_type": "execute_result"
    }
   ],
   "source": [
    "half_2_logs[:3]"
   ]
  },
  {
   "cell_type": "code",
   "execution_count": 5,
   "metadata": {
    "ExecuteTime": {
     "end_time": "2018-12-23T08:20:43.918824Z",
     "start_time": "2018-12-23T08:20:43.915895Z"
    }
   },
   "outputs": [],
   "source": [
    "n_trk = 5"
   ]
  },
  {
   "cell_type": "markdown",
   "metadata": {},
   "source": [
    "# Read dataframes"
   ]
  },
  {
   "cell_type": "code",
   "execution_count": 6,
   "metadata": {
    "ExecuteTime": {
     "end_time": "2018-12-23T08:20:43.927581Z",
     "start_time": "2018-12-23T08:20:43.921056Z"
    }
   },
   "outputs": [],
   "source": [
    "from sklearn.preprocessing import LabelEncoder\n",
    "\n",
    "def read_list_of_files(l1, l2, n_trk=1):\n",
    "    df_1 = pd.concat([read_log(f) for f in l1], axis=0, ignore_index=True)\n",
    "    df_2 = pd.concat([read_log(f) for f in l2], axis=0, ignore_index=True)\n",
    "\n",
    "#     df_1['session_id'] = df_1['session_id'].astype('category')\n",
    "    le = LabelEncoder().fit(df_1['session_id'])\n",
    "    df_1['session_id'] = le.transform(df_1['session_id'])\n",
    "    df_1.rename({'not_skipped': 'skip_4'}, axis=1, inplace=True)\n",
    "\n",
    "#     df_2['session_id'] = df_2['session_id'].astype('category')\n",
    "    df_2['session_id'] = le.transform(df_2['session_id'])\n",
    "    df_2.rename({'not_skipped': 'skip_4'}, axis=1, inplace=True)\n",
    "    \n",
    "    del le\n",
    "    \n",
    "#     display(df_2.head(30))\n",
    "    \n",
    "    # transform the data\n",
    "    return get_XY((df_1, df_2), aggs, reset_index=True, \n",
    "                  list_musik_qualities_=list_musik_qualities,\n",
    "                  aggs_music_qualities_=aggs_music_qualities,\n",
    "                   i_=list(range(n_trk)))"
   ]
  },
  {
   "cell_type": "code",
   "execution_count": 7,
   "metadata": {
    "ExecuteTime": {
     "end_time": "2018-12-23T08:20:43.936443Z",
     "start_time": "2018-12-23T08:20:43.929537Z"
    }
   },
   "outputs": [],
   "source": [
    "# X_trn, [target_length], X_trk = read_list_of_files(half_1_logs[:1],\n",
    "#                                                    half_2_logs[:1],\n",
    "#                                                    n_trk=n_trk)"
   ]
  },
  {
   "cell_type": "code",
   "execution_count": 8,
   "metadata": {
    "ExecuteTime": {
     "end_time": "2018-12-23T08:20:43.941085Z",
     "start_time": "2018-12-23T08:20:43.938559Z"
    }
   },
   "outputs": [],
   "source": [
    "# l_prob = []\n",
    "# for i_ in list(range(n_trk)):\n",
    "#     X = pd.concat([X_trn, X_trk[i_]], axis=1)\n",
    "    \n",
    "#     import pickle\n",
    "#     with open('models/model_v1_{}.pkl'.format(i_), 'rb') as fin:\n",
    "#         mdl = pickle.load(fin)\n",
    "        \n",
    "#     prob_pred = mdl.predict_proba(X)[:,1]\n",
    "    \n",
    "#     l_prob.append(prob_pred)\n",
    "#     #print(pro)\n",
    "#     #print(prob_pred[:5])"
   ]
  },
  {
   "cell_type": "code",
   "execution_count": 9,
   "metadata": {
    "ExecuteTime": {
     "end_time": "2018-12-23T08:20:43.949881Z",
     "start_time": "2018-12-23T08:20:43.943334Z"
    }
   },
   "outputs": [],
   "source": [
    "def pred_series_of_lists(list_preds, y_length, i_2fill=-2):\n",
    "    # transform predictions into a dataframe\n",
    "    tmp_preds_constant_mdl = pd.DataFrame({'pred_{}'.format(i): list_preds[i] for i in range(len(list_preds))}).astype(np.uint8)\n",
    "    # add a column with the residual desired length of complete session\n",
    "    tmp_preds_constant_mdl['len'] = y_length.values - len(list_preds)\n",
    "    # create a series with lists\n",
    "    series_of_lists = tmp_preds_constant_mdl.apply(lambda x: x.iloc[:-1].tolist() + [x.iloc[i_2fill]]*x['len'], axis=1)\n",
    "    del tmp_preds_constant_mdl\n",
    "    return series_of_lists\n",
    "\n",
    "def make_predictions(l1, l2, n_trk=1):\n",
    "    X_trn, [target_length], X_trk = read_list_of_files(l1, l2, n_trk=n_trk)\n",
    "\n",
    "    l_prob = []\n",
    "    for i_ in tqdm(list(range(n_trk))):\n",
    "        X = pd.concat([X_trn, X_trk[i_]], axis=1)\n",
    "\n",
    "        import pickle\n",
    "        with open('models/model_{}_{}_{}.pkl'.format(v_data, v_model, i_), 'rb') as fin:\n",
    "            mdl = pickle.load(fin)\n",
    "\n",
    "        prob_pred = mdl.predict_proba(X)[:,1]\n",
    "\n",
    "        l_prob.append(prob_pred)\n",
    "        \n",
    "#     print([p>0.50 for p in l_prob])\n",
    "    return pred_series_of_lists([p>0.50 for p in l_prob], target_length, i_2fill=-2)"
   ]
  },
  {
   "cell_type": "code",
   "execution_count": 10,
   "metadata": {
    "ExecuteTime": {
     "end_time": "2018-12-23T08:20:43.955400Z",
     "start_time": "2018-12-23T08:20:43.951496Z"
    }
   },
   "outputs": [],
   "source": [
    "#!rm data/submissions/sub_v1.txt"
   ]
  },
  {
   "cell_type": "code",
   "execution_count": null,
   "metadata": {
    "ExecuteTime": {
     "start_time": "2018-12-23T08:20:42.319Z"
    },
    "code_folding": [],
    "scrolled": false
   },
   "outputs": [
    {
     "name": "stdout",
     "output_type": "stream",
     "text": [
      "0\n",
      "['data/test_set/outDD_v2_00.h5' 'data/test_set/outDD_v2_01.h5'] ['data/test_set/subDD_v2_00.h5' 'data/test_set/subDD_v2_01.h5']\n"
     ]
    },
    {
     "name": "stderr",
     "output_type": "stream",
     "text": [
      "100%|██████████| 5/5 [00:25<00:00,  5.08s/it]\n"
     ]
    },
    {
     "name": "stdout",
     "output_type": "stream",
     "text": [
      "1\n",
      "['data/test_set/outDD_v2_02.h5' 'data/test_set/outDD_v2_03.h5'] ['data/test_set/subDD_v2_02.h5' 'data/test_set/subDD_v2_03.h5']\n"
     ]
    },
    {
     "name": "stderr",
     "output_type": "stream",
     "text": [
      "100%|██████████| 5/5 [00:28<00:00,  5.63s/it]\n"
     ]
    },
    {
     "name": "stdout",
     "output_type": "stream",
     "text": [
      "2\n",
      "['data/test_set/outDD_v2_04.h5' 'data/test_set/outDD_v2_05.h5'] ['data/test_set/subDD_v2_04.h5' 'data/test_set/subDD_v2_05.h5']\n"
     ]
    },
    {
     "name": "stderr",
     "output_type": "stream",
     "text": [
      "100%|██████████| 5/5 [00:28<00:00,  5.75s/it]\n"
     ]
    },
    {
     "name": "stdout",
     "output_type": "stream",
     "text": [
      "3\n",
      "['data/test_set/outDD_v2_06.h5' 'data/test_set/outDD_v2_07.h5'] ['data/test_set/subDD_v2_06.h5' 'data/test_set/subDD_v2_07.h5']\n"
     ]
    },
    {
     "name": "stderr",
     "output_type": "stream",
     "text": [
      "100%|██████████| 5/5 [00:25<00:00,  5.04s/it]\n"
     ]
    },
    {
     "name": "stdout",
     "output_type": "stream",
     "text": [
      "4\n",
      "['data/test_set/outDD_v2_08.h5' 'data/test_set/outDD_v2_09.h5'] ['data/test_set/subDD_v2_08.h5' 'data/test_set/subDD_v2_09.h5']\n"
     ]
    },
    {
     "name": "stderr",
     "output_type": "stream",
     "text": [
      "100%|██████████| 5/5 [00:26<00:00,  5.34s/it]\n"
     ]
    },
    {
     "name": "stdout",
     "output_type": "stream",
     "text": [
      "5\n",
      "['data/test_set/outDD_v2_10.h5' 'data/test_set/outDD_v2_11.h5'] ['data/test_set/subDD_v2_10.h5' 'data/test_set/subDD_v2_11.h5']\n"
     ]
    },
    {
     "name": "stderr",
     "output_type": "stream",
     "text": [
      "100%|██████████| 5/5 [00:26<00:00,  5.24s/it]\n"
     ]
    },
    {
     "name": "stdout",
     "output_type": "stream",
     "text": [
      "6\n",
      "['data/test_set/outDD_v2_12.h5' 'data/test_set/outDD_v2_13.h5'] ['data/test_set/subDD_v2_12.h5' 'data/test_set/subDD_v2_13.h5']\n"
     ]
    },
    {
     "name": "stderr",
     "output_type": "stream",
     "text": [
      "100%|██████████| 5/5 [00:27<00:00,  5.47s/it]\n"
     ]
    },
    {
     "name": "stdout",
     "output_type": "stream",
     "text": [
      "7\n",
      "['data/test_set/outDD_v2_14.h5' 'data/test_set/outDD_v2_15.h5'] ['data/test_set/subDD_v2_14.h5' 'data/test_set/subDD_v2_15.h5']\n"
     ]
    },
    {
     "name": "stderr",
     "output_type": "stream",
     "text": [
      "100%|██████████| 5/5 [00:25<00:00,  4.97s/it]\n"
     ]
    },
    {
     "name": "stdout",
     "output_type": "stream",
     "text": [
      "8\n",
      "['data/test_set/outDD_v2_16.h5' 'data/test_set/outDD_v2_17.h5'] ['data/test_set/subDD_v2_16.h5' 'data/test_set/subDD_v2_17.h5']\n"
     ]
    },
    {
     "name": "stderr",
     "output_type": "stream",
     "text": [
      "100%|██████████| 5/5 [00:27<00:00,  5.47s/it]\n"
     ]
    },
    {
     "name": "stdout",
     "output_type": "stream",
     "text": [
      "9\n",
      "['data/test_set/outDD_v2_18.h5' 'data/test_set/outDD_v2_19.h5'] ['data/test_set/subDD_v2_18.h5' 'data/test_set/subDD_v2_19.h5']\n"
     ]
    },
    {
     "name": "stderr",
     "output_type": "stream",
     "text": [
      "100%|██████████| 5/5 [00:28<00:00,  5.66s/it]\n"
     ]
    },
    {
     "name": "stdout",
     "output_type": "stream",
     "text": [
      "10\n",
      "['data/test_set/outDD_v2_20.h5' 'data/test_set/outDD_v2_21.h5'] ['data/test_set/subDD_v2_20.h5' 'data/test_set/subDD_v2_21.h5']\n"
     ]
    },
    {
     "name": "stderr",
     "output_type": "stream",
     "text": [
      "100%|██████████| 5/5 [00:24<00:00,  4.80s/it]\n"
     ]
    },
    {
     "name": "stdout",
     "output_type": "stream",
     "text": [
      "11\n",
      "['data/test_set/outDD_v2_22.h5' 'data/test_set/outDD_v2_23.h5'] ['data/test_set/subDD_v2_22.h5' 'data/test_set/subDD_v2_23.h5']\n"
     ]
    },
    {
     "name": "stderr",
     "output_type": "stream",
     "text": [
      "100%|██████████| 5/5 [00:26<00:00,  5.29s/it]\n"
     ]
    },
    {
     "name": "stdout",
     "output_type": "stream",
     "text": [
      "12\n",
      "['data/test_set/outDD_v2_24.h5' 'data/test_set/outDD_v2_25.h5'] ['data/test_set/subDD_v2_24.h5' 'data/test_set/subDD_v2_25.h5']\n"
     ]
    },
    {
     "name": "stderr",
     "output_type": "stream",
     "text": [
      "100%|██████████| 5/5 [00:27<00:00,  5.54s/it]\n"
     ]
    },
    {
     "name": "stdout",
     "output_type": "stream",
     "text": [
      "13\n",
      "['data/test_set/outDD_v2_26.h5' 'data/test_set/outDD_v2_27.h5'] ['data/test_set/subDD_v2_26.h5' 'data/test_set/subDD_v2_27.h5']\n"
     ]
    },
    {
     "name": "stderr",
     "output_type": "stream",
     "text": [
      "100%|██████████| 5/5 [00:27<00:00,  5.51s/it]\n"
     ]
    },
    {
     "name": "stdout",
     "output_type": "stream",
     "text": [
      "14\n",
      "['data/test_set/outDD_v2_28.h5' 'data/test_set/outDD_v2_29.h5'] ['data/test_set/subDD_v2_28.h5' 'data/test_set/subDD_v2_29.h5']\n"
     ]
    },
    {
     "name": "stderr",
     "output_type": "stream",
     "text": [
      "100%|██████████| 5/5 [00:26<00:00,  5.36s/it]\n"
     ]
    },
    {
     "name": "stdout",
     "output_type": "stream",
     "text": [
      "15\n",
      "['data/test_set/outDD_v2_30.h5' 'data/test_set/outDD_v2_31.h5'] ['data/test_set/subDD_v2_30.h5' 'data/test_set/subDD_v2_31.h5']\n"
     ]
    },
    {
     "name": "stderr",
     "output_type": "stream",
     "text": [
      "100%|██████████| 5/5 [00:26<00:00,  5.36s/it]\n"
     ]
    },
    {
     "name": "stdout",
     "output_type": "stream",
     "text": [
      "16\n",
      "['data/test_set/outDD_v2_32.h5' 'data/test_set/outDD_v2_33.h5'] ['data/test_set/subDD_v2_32.h5' 'data/test_set/subDD_v2_33.h5']\n"
     ]
    },
    {
     "name": "stderr",
     "output_type": "stream",
     "text": [
      "100%|██████████| 5/5 [00:27<00:00,  5.49s/it]\n"
     ]
    },
    {
     "name": "stdout",
     "output_type": "stream",
     "text": [
      "17\n",
      "['data/test_set/outDD_v2_34.h5' 'data/test_set/outDD_v2_35.h5'] ['data/test_set/subDD_v2_34.h5' 'data/test_set/subDD_v2_35.h5']\n"
     ]
    },
    {
     "name": "stderr",
     "output_type": "stream",
     "text": [
      "100%|██████████| 5/5 [00:26<00:00,  5.28s/it]\n"
     ]
    },
    {
     "name": "stdout",
     "output_type": "stream",
     "text": [
      "18\n",
      "['data/test_set/outDD_v2_36.h5' 'data/test_set/outDD_v2_37.h5'] ['data/test_set/subDD_v2_36.h5' 'data/test_set/subDD_v2_37.h5']\n"
     ]
    },
    {
     "name": "stderr",
     "output_type": "stream",
     "text": [
      "100%|██████████| 5/5 [00:26<00:00,  5.38s/it]\n"
     ]
    },
    {
     "name": "stdout",
     "output_type": "stream",
     "text": [
      "19\n",
      "['data/test_set/outDD_v2_38.h5' 'data/test_set/outDD_v2_39.h5'] ['data/test_set/subDD_v2_38.h5' 'data/test_set/subDD_v2_39.h5']\n"
     ]
    },
    {
     "name": "stderr",
     "output_type": "stream",
     "text": [
      "100%|██████████| 5/5 [00:27<00:00,  5.45s/it]\n"
     ]
    }
   ],
   "source": [
    "n_part = 33\n",
    "\n",
    "for i, (a1, a2) in enumerate(zip(np.array(half_1_logs).reshape(n_part,-1),\n",
    "                  np.array(half_2_logs).reshape(n_part,-1)\n",
    "                 )):\n",
    "    print(i)\n",
    "    print(a1, a2)\n",
    "    x1 = make_predictions(a1.tolist(), a2.tolist(), n_trk=5)\n",
    "    gc.collect()\n",
    "    log.info(psutil.Process(os.getpid()).memory_info().rss / 1024**2)\n",
    "    \n",
    "    x1.apply(lambda l: ''.join(map(str,l))).to_csv(PATH+'submissions/sub_'+v_data+'_'+v_model+'.txt', index=False, mode='a')\n",
    "    gc.collect()\n",
    "    log.info(psutil.Process(os.getpid()).memory_info().rss / 1024**2)\n",
    "#     if i >=1:\n",
    "#         break\n",
    "#     else:\n",
    "#         i=i+0"
   ]
  },
  {
   "cell_type": "code",
   "execution_count": null,
   "metadata": {
    "ExecuteTime": {
     "start_time": "2018-12-23T08:20:42.325Z"
    }
   },
   "outputs": [],
   "source": [
    "!ls -ltr data/submissions/"
   ]
  },
  {
   "cell_type": "code",
   "execution_count": null,
   "metadata": {
    "ExecuteTime": {
     "start_time": "2018-12-23T08:20:42.331Z"
    }
   },
   "outputs": [],
   "source": [
    "!wc -l\n"
   ]
  },
  {
   "cell_type": "code",
   "execution_count": null,
   "metadata": {},
   "outputs": [],
   "source": []
  }
 ],
 "metadata": {
  "kernelspec": {
   "display_name": "Python 3",
   "language": "python",
   "name": "python3"
  },
  "language_info": {
   "codemirror_mode": {
    "name": "ipython",
    "version": 3
   },
   "file_extension": ".py",
   "mimetype": "text/x-python",
   "name": "python",
   "nbconvert_exporter": "python",
   "pygments_lexer": "ipython3",
   "version": "3.5.5"
  },
  "toc": {
   "base_numbering": 1,
   "nav_menu": {},
   "number_sections": true,
   "sideBar": true,
   "skip_h1_title": false,
   "title_cell": "Table of Contents",
   "title_sidebar": "Contents",
   "toc_cell": false,
   "toc_position": {},
   "toc_section_display": true,
   "toc_window_display": false
  }
 },
 "nbformat": 4,
 "nbformat_minor": 2
}
