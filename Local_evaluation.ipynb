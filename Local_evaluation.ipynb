{
 "cells": [
  {
   "cell_type": "code",
   "execution_count": 2,
   "metadata": {
    "ExecuteTime": {
     "end_time": "2019-01-03T15:44:20.933606Z",
     "start_time": "2019-01-03T15:44:20.929788Z"
    }
   },
   "outputs": [],
   "source": [
    "import pandas as pd\n",
    "import glob\n",
    "import math\n",
    "import numpy as np\n",
    "\n",
    "from helpers import *\n",
    "\n",
    "v_data='v2'\n",
    "v_model=['m05i{}_6f'.format(i) for i in range(5)]\n",
    "\n",
    "n_files=2"
   ]
  },
  {
   "cell_type": "code",
   "execution_count": 3,
   "metadata": {
    "ExecuteTime": {
     "end_time": "2019-01-03T15:44:21.546582Z",
     "start_time": "2019-01-03T15:44:21.541583Z"
    }
   },
   "outputs": [
    {
     "data": {
      "text/plain": [
       "['m05i0_6f', 'm05i1_6f', 'm05i2_6f', 'm05i3_6f', 'm05i4_6f']"
      ]
     },
     "execution_count": 3,
     "metadata": {},
     "output_type": "execute_result"
    }
   ],
   "source": [
    "v_model"
   ]
  },
  {
   "cell_type": "markdown",
   "metadata": {},
   "source": [
    "# Get the validation files"
   ]
  },
  {
   "cell_type": "code",
   "execution_count": 4,
   "metadata": {
    "ExecuteTime": {
     "end_time": "2019-01-03T15:44:26.674396Z",
     "start_time": "2019-01-03T15:44:26.661817Z"
    }
   },
   "outputs": [],
   "source": [
    "data_path = 'data/' # TODO: point this to your data folder\n",
    "#submission_path = data_path + 'submissions/'\n",
    "training_path = data_path + 'training_set/'\n",
    "#fin_X = sorted(glob.glob(training_path + \"X_val*.csv.gz\")) # TODO: point this to a subset of csv's in your training set\n",
    "#fin_y = sorted(glob.glob(training_path + \"y_val*.csv.gz\"))\n",
    "fins = sorted(glob.glob(training_path + \"outDD_\"+v_data+\"_*.h5\"))\n",
    "trn_extra = sorted(glob.glob(training_path + \"outDD_v4_*.h5\"))\n",
    "ys   = sorted(glob.glob(training_path + \"y_*_.h5\"))"
   ]
  },
  {
   "cell_type": "code",
   "execution_count": 5,
   "metadata": {
    "ExecuteTime": {
     "end_time": "2019-01-03T15:44:27.014971Z",
     "start_time": "2019-01-03T15:44:27.010701Z"
    }
   },
   "outputs": [
    {
     "data": {
      "text/plain": [
       "['data/training_set/outDD_v2_00.h5',\n",
       " 'data/training_set/outDD_v2_01.h5',\n",
       " 'data/training_set/outDD_v2_02.h5',\n",
       " 'data/training_set/outDD_v2_03.h5',\n",
       " 'data/training_set/outDD_v2_04.h5',\n",
       " 'data/training_set/outDD_v2_05.h5',\n",
       " 'data/training_set/outDD_v2_06.h5',\n",
       " 'data/training_set/outDD_v2_07.h5',\n",
       " 'data/training_set/outDD_v2_08.h5',\n",
       " 'data/training_set/outDD_v2_09.h5',\n",
       " 'data/training_set/outDD_v2_10.h5',\n",
       " 'data/training_set/outDD_v2_11.h5',\n",
       " 'data/training_set/outDD_v2_12.h5',\n",
       " 'data/training_set/outDD_v2_13.h5',\n",
       " 'data/training_set/outDD_v2_14.h5',\n",
       " 'data/training_set/outDD_v2_15.h5',\n",
       " 'data/training_set/outDD_v2_16.h5',\n",
       " 'data/training_set/outDD_v2_17.h5',\n",
       " 'data/training_set/outDD_v2_18.h5',\n",
       " 'data/training_set/outDD_v2_19.h5',\n",
       " 'data/training_set/outDD_v2_20.h5',\n",
       " 'data/training_set/outDD_v2_21.h5',\n",
       " 'data/training_set/outDD_v2_22.h5',\n",
       " 'data/training_set/outDD_v2_23.h5',\n",
       " 'data/training_set/outDD_v2_24.h5',\n",
       " 'data/training_set/outDD_v2_25.h5',\n",
       " 'data/training_set/outDD_v2_26.h5',\n",
       " 'data/training_set/outDD_v2_27.h5',\n",
       " 'data/training_set/outDD_v2_28.h5',\n",
       " 'data/training_set/outDD_v2_29.h5',\n",
       " 'data/training_set/outDD_v2_30.h5',\n",
       " 'data/training_set/outDD_v2_31.h5',\n",
       " 'data/training_set/outDD_v2_32.h5',\n",
       " 'data/training_set/outDD_v2_33.h5',\n",
       " 'data/training_set/outDD_v2_34.h5',\n",
       " 'data/training_set/outDD_v2_35.h5',\n",
       " 'data/training_set/outDD_v2_36.h5',\n",
       " 'data/training_set/outDD_v2_37.h5',\n",
       " 'data/training_set/outDD_v2_38.h5',\n",
       " 'data/training_set/outDD_v2_39.h5',\n",
       " 'data/training_set/outDD_v2_40.h5',\n",
       " 'data/training_set/outDD_v2_41.h5',\n",
       " 'data/training_set/outDD_v2_42.h5',\n",
       " 'data/training_set/outDD_v2_43.h5',\n",
       " 'data/training_set/outDD_v2_44.h5',\n",
       " 'data/training_set/outDD_v2_45.h5',\n",
       " 'data/training_set/outDD_v2_46.h5',\n",
       " 'data/training_set/outDD_v2_47.h5',\n",
       " 'data/training_set/outDD_v2_48.h5',\n",
       " 'data/training_set/outDD_v2_49.h5',\n",
       " 'data/training_set/outDD_v2_50.h5',\n",
       " 'data/training_set/outDD_v2_51.h5',\n",
       " 'data/training_set/outDD_v2_52.h5',\n",
       " 'data/training_set/outDD_v2_53.h5',\n",
       " 'data/training_set/outDD_v2_54.h5',\n",
       " 'data/training_set/outDD_v2_55.h5',\n",
       " 'data/training_set/outDD_v2_56.h5',\n",
       " 'data/training_set/outDD_v2_57.h5',\n",
       " 'data/training_set/outDD_v2_58.h5',\n",
       " 'data/training_set/outDD_v2_59.h5',\n",
       " 'data/training_set/outDD_v2_60.h5',\n",
       " 'data/training_set/outDD_v2_61.h5',\n",
       " 'data/training_set/outDD_v2_62.h5',\n",
       " 'data/training_set/outDD_v2_63.h5',\n",
       " 'data/training_set/outDD_v2_64.h5',\n",
       " 'data/training_set/outDD_v2_65.h5']"
      ]
     },
     "execution_count": 5,
     "metadata": {},
     "output_type": "execute_result"
    }
   ],
   "source": [
    "fins"
   ]
  },
  {
   "cell_type": "code",
   "execution_count": 6,
   "metadata": {
    "ExecuteTime": {
     "end_time": "2019-01-03T15:44:27.470038Z",
     "start_time": "2019-01-03T15:44:27.465834Z"
    }
   },
   "outputs": [
    {
     "data": {
      "text/plain": [
       "['data/training_set/y_00_.h5',\n",
       " 'data/training_set/y_01_.h5',\n",
       " 'data/training_set/y_02_.h5',\n",
       " 'data/training_set/y_03_.h5',\n",
       " 'data/training_set/y_04_.h5',\n",
       " 'data/training_set/y_05_.h5',\n",
       " 'data/training_set/y_06_.h5',\n",
       " 'data/training_set/y_07_.h5',\n",
       " 'data/training_set/y_08_.h5',\n",
       " 'data/training_set/y_09_.h5',\n",
       " 'data/training_set/y_10_.h5',\n",
       " 'data/training_set/y_11_.h5',\n",
       " 'data/training_set/y_12_.h5',\n",
       " 'data/training_set/y_13_.h5',\n",
       " 'data/training_set/y_14_.h5',\n",
       " 'data/training_set/y_15_.h5',\n",
       " 'data/training_set/y_16_.h5',\n",
       " 'data/training_set/y_17_.h5',\n",
       " 'data/training_set/y_18_.h5',\n",
       " 'data/training_set/y_19_.h5',\n",
       " 'data/training_set/y_20_.h5',\n",
       " 'data/training_set/y_21_.h5',\n",
       " 'data/training_set/y_22_.h5',\n",
       " 'data/training_set/y_23_.h5',\n",
       " 'data/training_set/y_24_.h5',\n",
       " 'data/training_set/y_25_.h5',\n",
       " 'data/training_set/y_26_.h5',\n",
       " 'data/training_set/y_27_.h5',\n",
       " 'data/training_set/y_28_.h5',\n",
       " 'data/training_set/y_29_.h5',\n",
       " 'data/training_set/y_30_.h5',\n",
       " 'data/training_set/y_31_.h5',\n",
       " 'data/training_set/y_32_.h5',\n",
       " 'data/training_set/y_33_.h5',\n",
       " 'data/training_set/y_34_.h5',\n",
       " 'data/training_set/y_35_.h5',\n",
       " 'data/training_set/y_36_.h5',\n",
       " 'data/training_set/y_37_.h5',\n",
       " 'data/training_set/y_38_.h5',\n",
       " 'data/training_set/y_39_.h5',\n",
       " 'data/training_set/y_40_.h5',\n",
       " 'data/training_set/y_41_.h5',\n",
       " 'data/training_set/y_42_.h5',\n",
       " 'data/training_set/y_43_.h5',\n",
       " 'data/training_set/y_44_.h5',\n",
       " 'data/training_set/y_45_.h5',\n",
       " 'data/training_set/y_46_.h5',\n",
       " 'data/training_set/y_47_.h5',\n",
       " 'data/training_set/y_48_.h5',\n",
       " 'data/training_set/y_49_.h5',\n",
       " 'data/training_set/y_50_.h5',\n",
       " 'data/training_set/y_51_.h5',\n",
       " 'data/training_set/y_52_.h5',\n",
       " 'data/training_set/y_53_.h5',\n",
       " 'data/training_set/y_54_.h5',\n",
       " 'data/training_set/y_55_.h5',\n",
       " 'data/training_set/y_56_.h5',\n",
       " 'data/training_set/y_57_.h5',\n",
       " 'data/training_set/y_58_.h5',\n",
       " 'data/training_set/y_59_.h5',\n",
       " 'data/training_set/y_60_.h5',\n",
       " 'data/training_set/y_61_.h5',\n",
       " 'data/training_set/y_62_.h5',\n",
       " 'data/training_set/y_63_.h5',\n",
       " 'data/training_set/y_64_.h5',\n",
       " 'data/training_set/y_65_.h5']"
      ]
     },
     "execution_count": 6,
     "metadata": {},
     "output_type": "execute_result"
    }
   ],
   "source": [
    "ys"
   ]
  },
  {
   "cell_type": "code",
   "execution_count": 7,
   "metadata": {
    "ExecuteTime": {
     "end_time": "2019-01-03T15:44:27.975365Z",
     "start_time": "2019-01-03T15:44:27.971236Z"
    }
   },
   "outputs": [
    {
     "data": {
      "text/plain": [
       "['data/training_set/outDD_v4_00.h5',\n",
       " 'data/training_set/outDD_v4_01.h5',\n",
       " 'data/training_set/outDD_v4_02.h5',\n",
       " 'data/training_set/outDD_v4_03.h5',\n",
       " 'data/training_set/outDD_v4_04.h5',\n",
       " 'data/training_set/outDD_v4_05.h5',\n",
       " 'data/training_set/outDD_v4_06.h5',\n",
       " 'data/training_set/outDD_v4_07.h5',\n",
       " 'data/training_set/outDD_v4_08.h5',\n",
       " 'data/training_set/outDD_v4_09.h5',\n",
       " 'data/training_set/outDD_v4_10.h5',\n",
       " 'data/training_set/outDD_v4_11.h5',\n",
       " 'data/training_set/outDD_v4_12.h5',\n",
       " 'data/training_set/outDD_v4_13.h5',\n",
       " 'data/training_set/outDD_v4_14.h5',\n",
       " 'data/training_set/outDD_v4_15.h5',\n",
       " 'data/training_set/outDD_v4_16.h5',\n",
       " 'data/training_set/outDD_v4_17.h5',\n",
       " 'data/training_set/outDD_v4_18.h5',\n",
       " 'data/training_set/outDD_v4_19.h5',\n",
       " 'data/training_set/outDD_v4_20.h5',\n",
       " 'data/training_set/outDD_v4_21.h5',\n",
       " 'data/training_set/outDD_v4_22.h5',\n",
       " 'data/training_set/outDD_v4_23.h5',\n",
       " 'data/training_set/outDD_v4_24.h5',\n",
       " 'data/training_set/outDD_v4_25.h5',\n",
       " 'data/training_set/outDD_v4_26.h5',\n",
       " 'data/training_set/outDD_v4_27.h5',\n",
       " 'data/training_set/outDD_v4_28.h5',\n",
       " 'data/training_set/outDD_v4_29.h5',\n",
       " 'data/training_set/outDD_v4_30.h5',\n",
       " 'data/training_set/outDD_v4_31.h5',\n",
       " 'data/training_set/outDD_v4_32.h5',\n",
       " 'data/training_set/outDD_v4_33.h5',\n",
       " 'data/training_set/outDD_v4_34.h5',\n",
       " 'data/training_set/outDD_v4_35.h5',\n",
       " 'data/training_set/outDD_v4_36.h5',\n",
       " 'data/training_set/outDD_v4_37.h5',\n",
       " 'data/training_set/outDD_v4_38.h5',\n",
       " 'data/training_set/outDD_v4_39.h5',\n",
       " 'data/training_set/outDD_v4_40.h5',\n",
       " 'data/training_set/outDD_v4_41.h5',\n",
       " 'data/training_set/outDD_v4_42.h5',\n",
       " 'data/training_set/outDD_v4_43.h5',\n",
       " 'data/training_set/outDD_v4_44.h5',\n",
       " 'data/training_set/outDD_v4_45.h5',\n",
       " 'data/training_set/outDD_v4_46.h5',\n",
       " 'data/training_set/outDD_v4_47.h5',\n",
       " 'data/training_set/outDD_v4_48.h5',\n",
       " 'data/training_set/outDD_v4_49.h5',\n",
       " 'data/training_set/outDD_v4_50.h5',\n",
       " 'data/training_set/outDD_v4_51.h5',\n",
       " 'data/training_set/outDD_v4_52.h5',\n",
       " 'data/training_set/outDD_v4_53.h5',\n",
       " 'data/training_set/outDD_v4_54.h5',\n",
       " 'data/training_set/outDD_v4_55.h5',\n",
       " 'data/training_set/outDD_v4_56.h5',\n",
       " 'data/training_set/outDD_v4_57.h5',\n",
       " 'data/training_set/outDD_v4_58.h5',\n",
       " 'data/training_set/outDD_v4_59.h5',\n",
       " 'data/training_set/outDD_v4_60.h5',\n",
       " 'data/training_set/outDD_v4_61.h5',\n",
       " 'data/training_set/outDD_v4_62.h5',\n",
       " 'data/training_set/outDD_v4_63.h5',\n",
       " 'data/training_set/outDD_v4_64.h5',\n",
       " 'data/training_set/outDD_v4_65.h5']"
      ]
     },
     "execution_count": 7,
     "metadata": {},
     "output_type": "execute_result"
    }
   ],
   "source": [
    "trn_extra"
   ]
  },
  {
   "cell_type": "markdown",
   "metadata": {},
   "source": [
    "# Read in the data"
   ]
  },
  {
   "cell_type": "code",
   "execution_count": 16,
   "metadata": {
    "ExecuteTime": {
     "end_time": "2019-01-03T15:52:32.462800Z",
     "start_time": "2019-01-03T15:51:55.061962Z"
    }
   },
   "outputs": [
    {
     "data": {
      "text/plain": [
       "756"
      ]
     },
     "execution_count": 16,
     "metadata": {},
     "output_type": "execute_result"
    }
   ],
   "source": [
    "start_file = 50\n",
    "df_trn = pd.concat([read_log(f) for f in fins[start_file:start_file+n_files]], axis=0, ignore_index=True)\n",
    "df_trn.rename({'not_skipped': 'skip_4'}, axis=1, inplace=True)\n",
    "df_xtr = pd.concat([read_log(f) for f in trn_extra[start_file:start_file+n_files]], axis=0, ignore_index=True)\n",
    "df_trn = pd.concat([df_trn, df_xtr], axis=1)\n",
    "\n",
    "from sklearn.preprocessing import LabelEncoder\n",
    "df_trn['session_id'] = LabelEncoder().fit_transform(df_trn['session_id'])\n",
    "df_trn['session_id'] = df_trn['session_id'].astype(np.uint32)\n",
    "gc.collect()\n",
    "\n",
    "n_trk=10\n",
    "X_trn, y_trn, X_trk = get_XY(df_trn, aggs, reset_index=False, \n",
    "                  list_musik_qualities_=list_musik_qualities,\n",
    "                  aggs_music_qualities_=aggs_music_qualities,\n",
    "                   i_=list(range(n_trk)),\n",
    "                            aggs_trkvec_=aggs_trkvec, list_trkvec_=list_trkvec)\n",
    "\n",
    "del df_trn\n",
    "gc.collect()"
   ]
  },
  {
   "cell_type": "markdown",
   "metadata": {},
   "source": [
    "# Get the ground truth"
   ]
  },
  {
   "cell_type": "code",
   "execution_count": 9,
   "metadata": {
    "ExecuteTime": {
     "end_time": "2019-01-03T15:45:23.884190Z",
     "start_time": "2019-01-03T15:45:23.496403Z"
    }
   },
   "outputs": [],
   "source": [
    "#ground_truth = pd.Series(get_y_truth(df_trn))\n",
    "ground_truth = pd.concat([pd.read_hdf(f, key='df') for f in ys[start_file:start_file+n_files]], axis=0)"
   ]
  },
  {
   "cell_type": "code",
   "execution_count": 10,
   "metadata": {
    "ExecuteTime": {
     "end_time": "2019-01-03T15:45:23.890618Z",
     "start_time": "2019-01-03T15:45:23.886018Z"
    }
   },
   "outputs": [
    {
     "data": {
      "text/plain": [
       "['data/training_set/y_50_.h5', 'data/training_set/y_51_.h5']"
      ]
     },
     "execution_count": 10,
     "metadata": {},
     "output_type": "execute_result"
    }
   ],
   "source": [
    "ys[start_file:start_file+n_files]"
   ]
  },
  {
   "cell_type": "code",
   "execution_count": 11,
   "metadata": {
    "ExecuteTime": {
     "end_time": "2019-01-03T15:45:23.898722Z",
     "start_time": "2019-01-03T15:45:23.892627Z"
    }
   },
   "outputs": [
    {
     "data": {
      "text/plain": [
       "0                   [1, 1, 1, 0, 0]\n",
       "1             [1, 1, 0, 1, 1, 1, 1]\n",
       "2    [1, 1, 1, 1, 1, 1, 1, 1, 1, 1]\n",
       "3    [1, 1, 1, 1, 1, 1, 1, 1, 0, 1]\n",
       "4       [1, 1, 1, 0, 0, 0, 1, 1, 1]\n",
       "dtype: object"
      ]
     },
     "execution_count": 11,
     "metadata": {},
     "output_type": "execute_result"
    }
   ],
   "source": [
    "ground_truth.head()"
   ]
  },
  {
   "cell_type": "markdown",
   "metadata": {},
   "source": [
    "# Make predictions using pre-trained models"
   ]
  },
  {
   "cell_type": "code",
   "execution_count": 17,
   "metadata": {
    "ExecuteTime": {
     "end_time": "2019-01-03T15:54:19.326607Z",
     "start_time": "2019-01-03T15:52:32.466372Z"
    }
   },
   "outputs": [
    {
     "name": "stderr",
     "output_type": "stream",
     "text": [
      "100%|██████████| 10/10 [01:10<00:00,  6.16s/it]\n"
     ]
    }
   ],
   "source": [
    "l_prob = []\n",
    "for i_ in tqdm(list(range(n_trk))):\n",
    "    X = pd.concat([X_trn, X_trk[i_]], axis=1)\n",
    "    if len(l_prob) > 0:\n",
    "        X = pd.concat([X, pd.DataFrame({'pred_trk{}'.format(j): l_prob[j] \n",
    "                                        for j in range(len(l_prob))\n",
    "                                       })],\n",
    "                      axis=1)\n",
    "#         display(X.head())\n",
    "    import joblib\n",
    "    prob_pred = np.zeros(shape=(len(X),))\n",
    "    for v in v_model:\n",
    "        mfn = 'models/model_{}_{}_{}.pkl'.format(v_data, v, i_)\n",
    "#         print(mfn)\n",
    "        mdl = joblib.load(mfn)\n",
    "        prob_pred += mdl.predict_proba(X)[:,1]\n",
    "\n",
    "    prob_pred /= len(v_model)\n",
    "    l_prob.append(prob_pred)\n",
    "\n",
    "# transform accumulated predicted probabilities into competition predictions           \n",
    "preds = pred_series_of_lists([p>0.50 for p in l_prob], ground_truth.apply(len), i_2fill=-2)"
   ]
  },
  {
   "cell_type": "code",
   "execution_count": 18,
   "metadata": {
    "ExecuteTime": {
     "end_time": "2019-01-03T15:54:19.337446Z",
     "start_time": "2019-01-03T15:54:19.330548Z"
    }
   },
   "outputs": [
    {
     "data": {
      "text/plain": [
       "0                    [1, 1, 0, 0, 0]\n",
       "1              [1, 1, 1, 1, 1, 0, 0]\n",
       "2     [1, 1, 1, 1, 1, 1, 1, 1, 1, 1]\n",
       "3     [1, 1, 1, 1, 1, 1, 1, 1, 1, 1]\n",
       "4        [0, 1, 1, 0, 0, 0, 0, 0, 0]\n",
       "5     [1, 1, 1, 1, 1, 1, 1, 1, 1, 1]\n",
       "6                 [1, 1, 0, 0, 0, 0]\n",
       "7           [1, 1, 1, 1, 0, 0, 0, 0]\n",
       "8     [1, 1, 1, 1, 1, 1, 1, 1, 1, 1]\n",
       "9                 [1, 0, 0, 0, 0, 0]\n",
       "10       [1, 1, 1, 1, 1, 1, 1, 1, 0]\n",
       "11    [1, 1, 1, 1, 1, 1, 1, 1, 1, 0]\n",
       "12    [0, 1, 1, 1, 1, 1, 1, 1, 1, 1]\n",
       "13    [1, 1, 1, 1, 1, 1, 1, 1, 1, 1]\n",
       "14    [0, 0, 0, 0, 0, 0, 0, 0, 0, 0]\n",
       "15    [0, 1, 0, 1, 0, 0, 0, 0, 0, 0]\n",
       "16    [1, 1, 1, 1, 1, 1, 1, 1, 1, 1]\n",
       "17                [1, 1, 1, 1, 0, 0]\n",
       "18    [1, 1, 1, 1, 1, 1, 1, 1, 1, 1]\n",
       "19          [0, 0, 0, 0, 0, 0, 0, 0]\n",
       "dtype: object"
      ]
     },
     "execution_count": 18,
     "metadata": {},
     "output_type": "execute_result"
    }
   ],
   "source": [
    "preds.head(20)"
   ]
  },
  {
   "cell_type": "markdown",
   "metadata": {},
   "source": [
    "# Evaluate the predictions"
   ]
  },
  {
   "cell_type": "code",
   "execution_count": 19,
   "metadata": {
    "ExecuteTime": {
     "end_time": "2019-01-03T15:54:20.209152Z",
     "start_time": "2019-01-03T15:54:19.339371Z"
    }
   },
   "outputs": [],
   "source": [
    "ap,first_pred_acc = evaluate(preds.tolist(), ground_truth.tolist())"
   ]
  },
  {
   "cell_type": "code",
   "execution_count": 20,
   "metadata": {
    "ExecuteTime": {
     "end_time": "2019-01-03T15:54:20.214802Z",
     "start_time": "2019-01-03T15:54:20.210799Z"
    }
   },
   "outputs": [
    {
     "name": "stdout",
     "output_type": "stream",
     "text": [
      "average precision: 0.5799379348158507\n",
      "first prediction accuracy: 0.7804511487842962\n"
     ]
    }
   ],
   "source": [
    "print('average precision: {}'.format(ap))\n",
    "print('first prediction accuracy: {}'.format(first_pred_acc))"
   ]
  },
  {
   "cell_type": "markdown",
   "metadata": {},
   "source": [
    "# Do recursive evaluation"
   ]
  },
  {
   "cell_type": "code",
   "execution_count": 20,
   "metadata": {
    "ExecuteTime": {
     "end_time": "2019-01-03T08:02:05.552504Z",
     "start_time": "2019-01-03T07:58:05.926886Z"
    }
   },
   "outputs": [
    {
     "name": "stdout",
     "output_type": "stream",
     "text": [
      "------------ 1 ----------------\n",
      "average precision: 0.5539\n",
      "------------ 2 ----------------\n",
      "average precision: 0.5613\n",
      "------------ 3 ----------------\n",
      "average precision: 0.5640\n",
      "------------ 4 ----------------\n",
      "average precision: 0.5672\n",
      "------------ 5 ----------------\n",
      "average precision: 0.5703\n"
     ]
    }
   ],
   "source": [
    "for i in range(1,n_trk+1):\n",
    "    print('------------ {} ----------------'.format(i))\n",
    "    preds = pred_series_of_lists([l_prob[i_]>0.50 for i_ in range(i)], ground_truth.apply(len), i_2fill=-2)\n",
    "    ap,first_pred_acc = evaluate(preds, ground_truth)\n",
    "    print('average precision: {:.4f}'.format(ap))\n",
    "#     print('first prediction accuracy: {}'.format(first_pred_acc))"
   ]
  },
  {
   "cell_type": "raw",
   "metadata": {},
   "source": [
    "m04_f1 val_f1\n",
    "------------ 1 ----------------\n",
    "average precision: 0.5537\n",
    "------------ 2 ----------------\n",
    "average precision: 0.5604\n",
    "------------ 3 ----------------\n",
    "average precision: 0.5630\n",
    "------------ 4 ----------------\n",
    "average precision: 0.5659\n",
    "------------ 5 ----------------\n",
    "average precision: 0.5696\n",
    "\n",
    "m04_f1 val_f4\n",
    "------------ 1 ----------------\n",
    "average precision: 0.5528\n",
    "------------ 2 ----------------\n",
    "average precision: 0.5593\n",
    "------------ 3 ----------------\n",
    "average precision: 0.5616\n",
    "------------ 4 ----------------\n",
    "average precision: 0.5646\n",
    "------------ 5 ----------------\n",
    "average precision: 0.5683\n",
    "\n",
    "\n",
    "\n",
    "m04_f2 val_f1\n",
    "------------ 1 ----------------\n",
    "average precision: 0.5548\n",
    "------------ 2 ----------------\n",
    "average precision: 0.5628\n",
    "------------ 3 ----------------\n",
    "average precision: 0.5656\n",
    "------------ 4 ----------------\n",
    "average precision: 0.5688\n",
    "------------ 5 ----------------\n",
    "average precision: 0.5715\n",
    "\n",
    "\n",
    "m04_f4 val_f1\n",
    "------------ 1 ----------------\n",
    "average precision: 0.5553\n",
    "------------ 2 ----------------\n",
    "average precision: 0.5635\n",
    "------------ 3 ----------------\n",
    "average precision: 0.5667\n",
    "------------ 4 ----------------\n",
    "average precision: 0.5703\n",
    "------------ 5 ----------------\n",
    "average precision: 0.5731\n",
    "\n",
    "m04_f4 val_f4\n",
    "------------ 1 ----------------\n",
    "average precision: 0.5543\n",
    "------------ 2 ----------------\n",
    "average precision: 0.5624\n",
    "------------ 3 ----------------\n",
    "average precision: 0.5654\n",
    "------------ 4 ----------------\n",
    "average precision: 0.5690\n",
    "------------ 5 ----------------\n",
    "average precision: 0.5719\n",
    "\n",
    "\n",
    "m05_f4 val_f4\n",
    "------------ 1 ----------------\n",
    "average precision: 0.5547\n",
    "------------ 2 ----------------\n",
    "average precision: 0.5619\n",
    "------------ 3 ----------------\n",
    "average precision: 0.5654\n",
    "------------ 4 ----------------\n",
    "average precision: 0.5682\n",
    "------------ 5 ----------------\n",
    "average precision: 0.5706\n",
    "------------ 6 ----------------\n",
    "average precision: 0.5719\n",
    "------------ 7 ----------------\n",
    "average precision: 0.5729\n",
    "------------ 8 ----------------\n",
    "average precision: 0.5734\n",
    "------------ 9 ----------------\n",
    "average precision: 0.5736\n",
    "------------ 10 ----------------\n",
    "average precision: 0.5734\n"
   ]
  },
  {
   "cell_type": "raw",
   "metadata": {},
   "source": [
    "m05i0_2f\n",
    "------------ 1 ----------------\n",
    "average precision: 0.5537\n",
    "------------ 2 ----------------\n",
    "average precision: 0.5604\n",
    "------------ 3 ----------------\n",
    "average precision: 0.5623\n",
    "------------ 4 ----------------\n",
    "average precision: 0.5645\n",
    "------------ 5 ----------------\n",
    "average precision: 0.5687\n",
    "m05i1_2f\n",
    "------------ 1 ----------------\n",
    "average precision: 0.5538\n",
    "------------ 2 ----------------\n",
    "average precision: 0.5608\n",
    "------------ 3 ----------------\n",
    "average precision: 0.5627\n",
    "------------ 4 ----------------\n",
    "average precision: 0.5655\n",
    "------------ 5 ----------------\n",
    "average precision: 0.5679\n",
    "\n",
    "m05i0_2f+m05i1_2f\n",
    "------------ 1 ----------------\n",
    "average precision: 0.5539\n",
    "------------ 2 ----------------\n",
    "average precision: 0.5613\n",
    "------------ 3 ----------------\n",
    "average precision: 0.5640\n",
    "------------ 4 ----------------\n",
    "average precision: 0.5672\n",
    "------------ 5 ----------------\n",
    "average precision: 0.5703\n",
    "\n",
    "m05i0_4f val_2f(50+)\n",
    "average precision: 0.5731\n",
    "\n",
    "m05i[0-4]_4f val_2f(50+)\n",
    "average precision: 0.5754\n",
    "\n",
    "m05i[0-9]_4f val_2f(50+)\n",
    "average precision: 0.5759\n",
    "\n",
    "m05i[0-4]_6f val_2f(50+)\n",
    "average precision: 0.5759\n"
   ]
  },
  {
   "cell_type": "code",
   "execution_count": null,
   "metadata": {},
   "outputs": [],
   "source": []
  }
 ],
 "metadata": {
  "kernelspec": {
   "display_name": "Python 3",
   "language": "python",
   "name": "python3"
  },
  "language_info": {
   "codemirror_mode": {
    "name": "ipython",
    "version": 3
   },
   "file_extension": ".py",
   "mimetype": "text/x-python",
   "name": "python",
   "nbconvert_exporter": "python",
   "pygments_lexer": "ipython3",
   "version": "3.5.5"
  },
  "toc": {
   "base_numbering": 1,
   "nav_menu": {},
   "number_sections": true,
   "sideBar": true,
   "skip_h1_title": false,
   "title_cell": "Table of Contents",
   "title_sidebar": "Contents",
   "toc_cell": false,
   "toc_position": {},
   "toc_section_display": true,
   "toc_window_display": false
  }
 },
 "nbformat": 4,
 "nbformat_minor": 2
}
