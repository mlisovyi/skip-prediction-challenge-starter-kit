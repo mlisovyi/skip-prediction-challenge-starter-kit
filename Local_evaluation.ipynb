{
 "cells": [
  {
   "cell_type": "code",
   "execution_count": 1,
   "metadata": {
    "ExecuteTime": {
     "end_time": "2018-12-28T09:24:18.238409Z",
     "start_time": "2018-12-28T09:24:16.844674Z"
    }
   },
   "outputs": [],
   "source": [
    "import pandas as pd\n",
    "import glob\n",
    "import math\n",
    "import numpy as np\n",
    "\n",
    "from helpers import *\n",
    "\n",
    "v_data='v2'\n",
    "v_model='m04_4f'\n",
    "\n",
    "n_files=4"
   ]
  },
  {
   "cell_type": "markdown",
   "metadata": {},
   "source": [
    "# Get the validation files"
   ]
  },
  {
   "cell_type": "code",
   "execution_count": 2,
   "metadata": {
    "ExecuteTime": {
     "end_time": "2018-12-28T09:24:18.245502Z",
     "start_time": "2018-12-28T09:24:18.240684Z"
    }
   },
   "outputs": [],
   "source": [
    "data_path = 'data/' # TODO: point this to your data folder\n",
    "#submission_path = data_path + 'submissions/'\n",
    "training_path = data_path + 'training_set/'\n",
    "#fin_X = sorted(glob.glob(training_path + \"X_val*.csv.gz\")) # TODO: point this to a subset of csv's in your training set\n",
    "#fin_y = sorted(glob.glob(training_path + \"y_val*.csv.gz\"))\n",
    "fins = sorted(glob.glob(training_path + \"outDD_\"+v_data+\"_1*.h5\"))\n",
    "ys   = sorted(glob.glob(training_path + \"y_1*_.h5\"))"
   ]
  },
  {
   "cell_type": "code",
   "execution_count": 3,
   "metadata": {
    "ExecuteTime": {
     "end_time": "2018-12-28T09:24:18.271356Z",
     "start_time": "2018-12-28T09:24:18.247174Z"
    }
   },
   "outputs": [
    {
     "data": {
      "text/plain": [
       "['data/training_set/outDD_v2_10.h5',\n",
       " 'data/training_set/outDD_v2_11.h5',\n",
       " 'data/training_set/outDD_v2_12.h5',\n",
       " 'data/training_set/outDD_v2_13.h5',\n",
       " 'data/training_set/outDD_v2_14.h5',\n",
       " 'data/training_set/outDD_v2_15.h5',\n",
       " 'data/training_set/outDD_v2_16.h5',\n",
       " 'data/training_set/outDD_v2_17.h5',\n",
       " 'data/training_set/outDD_v2_18.h5',\n",
       " 'data/training_set/outDD_v2_19.h5']"
      ]
     },
     "execution_count": 3,
     "metadata": {},
     "output_type": "execute_result"
    }
   ],
   "source": [
    "fins"
   ]
  },
  {
   "cell_type": "code",
   "execution_count": 4,
   "metadata": {
    "ExecuteTime": {
     "end_time": "2018-12-28T09:24:18.296478Z",
     "start_time": "2018-12-28T09:24:18.272868Z"
    }
   },
   "outputs": [
    {
     "data": {
      "text/plain": [
       "['data/training_set/y_10_.h5',\n",
       " 'data/training_set/y_11_.h5',\n",
       " 'data/training_set/y_12_.h5',\n",
       " 'data/training_set/y_13_.h5',\n",
       " 'data/training_set/y_14_.h5',\n",
       " 'data/training_set/y_15_.h5',\n",
       " 'data/training_set/y_16_.h5',\n",
       " 'data/training_set/y_17_.h5',\n",
       " 'data/training_set/y_18_.h5',\n",
       " 'data/training_set/y_19_.h5']"
      ]
     },
     "execution_count": 4,
     "metadata": {},
     "output_type": "execute_result"
    }
   ],
   "source": [
    "ys"
   ]
  },
  {
   "cell_type": "markdown",
   "metadata": {},
   "source": [
    "# Read in the data"
   ]
  },
  {
   "cell_type": "code",
   "execution_count": 5,
   "metadata": {
    "ExecuteTime": {
     "end_time": "2018-12-28T09:26:18.923660Z",
     "start_time": "2018-12-28T09:24:18.298370Z"
    }
   },
   "outputs": [
    {
     "data": {
      "text/plain": [
       "651"
      ]
     },
     "execution_count": 5,
     "metadata": {},
     "output_type": "execute_result"
    }
   ],
   "source": [
    "df_trn = pd.concat([read_log(f) for f in fins[:n_files]], axis=0, ignore_index=True)\n",
    "df_trn.rename({'not_skipped': 'skip_4'}, axis=1, inplace=True)\n",
    "\n",
    "from sklearn.preprocessing import LabelEncoder\n",
    "df_trn['session_id'] = LabelEncoder().fit_transform(df_trn['session_id'])\n",
    "df_trn['session_id'] = df_trn['session_id'].astype(np.uint32)\n",
    "gc.collect()\n",
    "\n",
    "n_trk=5\n",
    "X_trn, y_trn, X_trk = get_XY(df_trn, aggs, reset_index=True, \n",
    "                  list_musik_qualities_=list_musik_qualities,\n",
    "                  aggs_music_qualities_=aggs_music_qualities,\n",
    "                   i_=list(range(n_trk)))\n",
    "\n",
    "del df_trn\n",
    "gc.collect()"
   ]
  },
  {
   "cell_type": "code",
   "execution_count": 6,
   "metadata": {
    "ExecuteTime": {
     "end_time": "2018-12-28T09:26:18.931808Z",
     "start_time": "2018-12-28T09:26:18.926855Z"
    }
   },
   "outputs": [
    {
     "data": {
      "text/plain": [
       "['data/training_set/outDD_v2_10.h5',\n",
       " 'data/training_set/outDD_v2_11.h5',\n",
       " 'data/training_set/outDD_v2_12.h5',\n",
       " 'data/training_set/outDD_v2_13.h5']"
      ]
     },
     "execution_count": 6,
     "metadata": {},
     "output_type": "execute_result"
    }
   ],
   "source": [
    "fins[:n_files]"
   ]
  },
  {
   "cell_type": "markdown",
   "metadata": {},
   "source": [
    "# Get the ground truth"
   ]
  },
  {
   "cell_type": "code",
   "execution_count": 7,
   "metadata": {
    "ExecuteTime": {
     "end_time": "2018-12-28T09:26:21.005230Z",
     "start_time": "2018-12-28T09:26:18.934167Z"
    }
   },
   "outputs": [],
   "source": [
    "#ground_truth = pd.Series(get_y_truth(df_trn))\n",
    "ground_truth = pd.concat([pd.read_hdf(f, key='df') for f in ys[:n_files]], axis=0)"
   ]
  },
  {
   "cell_type": "code",
   "execution_count": 8,
   "metadata": {
    "ExecuteTime": {
     "end_time": "2018-12-28T09:26:21.013910Z",
     "start_time": "2018-12-28T09:26:21.008236Z"
    }
   },
   "outputs": [
    {
     "data": {
      "text/plain": [
       "['data/training_set/y_10_.h5',\n",
       " 'data/training_set/y_11_.h5',\n",
       " 'data/training_set/y_12_.h5',\n",
       " 'data/training_set/y_13_.h5']"
      ]
     },
     "execution_count": 8,
     "metadata": {},
     "output_type": "execute_result"
    }
   ],
   "source": [
    "ys[:n_files]"
   ]
  },
  {
   "cell_type": "code",
   "execution_count": 9,
   "metadata": {
    "ExecuteTime": {
     "end_time": "2018-12-28T09:26:21.039220Z",
     "start_time": "2018-12-28T09:26:21.016254Z"
    }
   },
   "outputs": [
    {
     "data": {
      "text/plain": [
       "0    [1, 0, 0, 1, 1, 1, 1, 1, 1, 1]\n",
       "1                   [1, 1, 1, 1, 0]\n",
       "2    [0, 0, 0, 0, 0, 0, 0, 0, 1, 1]\n",
       "3             [0, 0, 0, 0, 0, 1, 1]\n",
       "4    [1, 0, 0, 0, 0, 1, 0, 1, 0, 0]\n",
       "dtype: object"
      ]
     },
     "execution_count": 9,
     "metadata": {},
     "output_type": "execute_result"
    }
   ],
   "source": [
    "ground_truth.head()"
   ]
  },
  {
   "cell_type": "markdown",
   "metadata": {},
   "source": [
    "# Make predictions using pre-trained models"
   ]
  },
  {
   "cell_type": "code",
   "execution_count": 10,
   "metadata": {
    "ExecuteTime": {
     "end_time": "2018-12-28T09:28:48.369791Z",
     "start_time": "2018-12-28T09:26:21.041983Z"
    }
   },
   "outputs": [
    {
     "name": "stderr",
     "output_type": "stream",
     "text": [
      "100%|██████████| 5/5 [00:29<00:00,  5.92s/it]\n"
     ]
    }
   ],
   "source": [
    "    l_prob = []\n",
    "    for i_ in tqdm(list(range(n_trk))):\n",
    "        X = pd.concat([X_trn, X_trk[i_]], axis=1)\n",
    "        if len(l_prob) > 0:\n",
    "            X = pd.concat([X, pd.DataFrame({'pred_trk{}'.format(j): l_prob[j] \n",
    "                                            for j in range(len(l_prob))\n",
    "                                           })],\n",
    "                          axis=1)\n",
    "#         display(X.head())\n",
    "        import joblib\n",
    "        mfn = 'models/model_{}_{}_{}.pkl'.format(v_data, v_model, i_)\n",
    "#         print(mfn)\n",
    "        mdl = joblib.load(mfn)\n",
    "\n",
    "        prob_pred = mdl.predict_proba(X)[:,1]\n",
    "\n",
    "        l_prob.append(prob_pred)\n",
    "        \n",
    "    # transform accumulated predicted probabilities into competition predictions           \n",
    "    preds = pred_series_of_lists([p>0.50 for p in l_prob], ground_truth.apply(len), i_2fill=-2)"
   ]
  },
  {
   "cell_type": "code",
   "execution_count": 11,
   "metadata": {
    "ExecuteTime": {
     "end_time": "2018-12-28T09:28:48.382511Z",
     "start_time": "2018-12-28T09:28:48.372904Z"
    }
   },
   "outputs": [
    {
     "data": {
      "text/plain": [
       "0     [1, 1, 1, 1, 1, 1, 1, 1, 1, 1]\n",
       "1                    [1, 1, 1, 1, 0]\n",
       "2     [0, 0, 0, 0, 0, 0, 0, 0, 0, 0]\n",
       "3              [0, 0, 0, 0, 0, 0, 0]\n",
       "4     [1, 1, 1, 1, 1, 1, 1, 1, 1, 1]\n",
       "5                    [0, 0, 0, 0, 0]\n",
       "6     [0, 0, 0, 0, 0, 0, 0, 0, 0, 0]\n",
       "7              [1, 1, 1, 1, 1, 1, 1]\n",
       "8     [0, 0, 0, 0, 0, 0, 0, 0, 0, 0]\n",
       "9     [1, 1, 1, 1, 1, 1, 1, 1, 1, 1]\n",
       "10    [0, 0, 0, 0, 0, 0, 0, 0, 0, 0]\n",
       "11    [1, 1, 1, 1, 1, 1, 1, 1, 1, 1]\n",
       "12    [0, 0, 0, 0, 0, 0, 0, 0, 0, 0]\n",
       "13          [1, 1, 1, 1, 1, 1, 1, 1]\n",
       "14    [0, 1, 1, 1, 1, 1, 1, 1, 1, 1]\n",
       "15    [0, 0, 0, 0, 0, 0, 0, 0, 0, 0]\n",
       "16    [1, 1, 1, 1, 1, 1, 1, 1, 1, 1]\n",
       "17    [0, 0, 0, 0, 0, 0, 0, 0, 0, 0]\n",
       "18    [1, 1, 1, 1, 1, 1, 1, 1, 1, 1]\n",
       "19    [0, 1, 1, 1, 1, 1, 1, 1, 1, 1]\n",
       "dtype: object"
      ]
     },
     "execution_count": 11,
     "metadata": {},
     "output_type": "execute_result"
    }
   ],
   "source": [
    "preds.head(20)"
   ]
  },
  {
   "cell_type": "markdown",
   "metadata": {},
   "source": [
    "# Evaluate the predictions"
   ]
  },
  {
   "cell_type": "code",
   "execution_count": 12,
   "metadata": {
    "ExecuteTime": {
     "end_time": "2018-12-28T09:28:52.222143Z",
     "start_time": "2018-12-28T09:28:48.385809Z"
    }
   },
   "outputs": [],
   "source": [
    "ap,first_pred_acc = evaluate(preds.tolist(), ground_truth.tolist())"
   ]
  },
  {
   "cell_type": "code",
   "execution_count": 13,
   "metadata": {
    "ExecuteTime": {
     "end_time": "2018-12-28T09:28:52.229021Z",
     "start_time": "2018-12-28T09:28:52.224245Z"
    }
   },
   "outputs": [
    {
     "name": "stdout",
     "output_type": "stream",
     "text": [
      "average precision: 0.5719362003638895\n",
      "first prediction accuracy: 0.7784368036426362\n"
     ]
    }
   ],
   "source": [
    "print('average precision: {}'.format(ap))\n",
    "print('first prediction accuracy: {}'.format(first_pred_acc))"
   ]
  },
  {
   "cell_type": "markdown",
   "metadata": {},
   "source": [
    "# Do recursive evaluation"
   ]
  },
  {
   "cell_type": "code",
   "execution_count": 14,
   "metadata": {
    "ExecuteTime": {
     "end_time": "2018-12-28T09:39:12.826730Z",
     "start_time": "2018-12-28T09:28:52.232855Z"
    }
   },
   "outputs": [
    {
     "name": "stdout",
     "output_type": "stream",
     "text": [
      "------------ 1 ----------------\n",
      "average precision: 0.5543\n",
      "------------ 2 ----------------\n",
      "average precision: 0.5624\n",
      "------------ 3 ----------------\n",
      "average precision: 0.5654\n",
      "------------ 4 ----------------\n",
      "average precision: 0.5690\n",
      "------------ 5 ----------------\n",
      "average precision: 0.5719\n"
     ]
    }
   ],
   "source": [
    "for i in range(1,n_trk+1):\n",
    "    print('------------ {} ----------------'.format(i))\n",
    "    preds = pred_series_of_lists([l_prob[i_]>0.50 for i_ in range(i)], ground_truth.apply(len), i_2fill=-2)\n",
    "    ap,first_pred_acc = evaluate(preds, ground_truth)\n",
    "    print('average precision: {:.4f}'.format(ap))\n",
    "#     print('first prediction accuracy: {}'.format(first_pred_acc))"
   ]
  },
  {
   "cell_type": "raw",
   "metadata": {},
   "source": [
    "m04_f1 val_f1\n",
    "------------ 1 ----------------\n",
    "average precision: 0.5537\n",
    "------------ 2 ----------------\n",
    "average precision: 0.5604\n",
    "------------ 3 ----------------\n",
    "average precision: 0.5630\n",
    "------------ 4 ----------------\n",
    "average precision: 0.5659\n",
    "------------ 5 ----------------\n",
    "average precision: 0.5696\n",
    "\n",
    "m04_f1 val_f4\n",
    "------------ 1 ----------------\n",
    "average precision: 0.5528\n",
    "------------ 2 ----------------\n",
    "average precision: 0.5593\n",
    "------------ 3 ----------------\n",
    "average precision: 0.5616\n",
    "------------ 4 ----------------\n",
    "average precision: 0.5646\n",
    "------------ 5 ----------------\n",
    "average precision: 0.5683\n",
    "\n",
    "\n",
    "\n",
    "m04_f2 val_f1\n",
    "------------ 1 ----------------\n",
    "average precision: 0.5548\n",
    "------------ 2 ----------------\n",
    "average precision: 0.5628\n",
    "------------ 3 ----------------\n",
    "average precision: 0.5656\n",
    "------------ 4 ----------------\n",
    "average precision: 0.5688\n",
    "------------ 5 ----------------\n",
    "average precision: 0.5715\n",
    "\n",
    "\n",
    "m04_f4 val_f1\n",
    "------------ 1 ----------------\n",
    "average precision: 0.5553\n",
    "------------ 2 ----------------\n",
    "average precision: 0.5635\n",
    "------------ 3 ----------------\n",
    "average precision: 0.5667\n",
    "------------ 4 ----------------\n",
    "average precision: 0.5703\n",
    "------------ 5 ----------------\n",
    "average precision: 0.5731\n",
    "\n",
    "m04_f4 val_f4\n",
    "------------ 1 ----------------\n",
    "average precision: 0.5543\n",
    "------------ 2 ----------------\n",
    "average precision: 0.5624\n",
    "------------ 3 ----------------\n",
    "average precision: 0.5654\n",
    "------------ 4 ----------------\n",
    "average precision: 0.5690\n",
    "------------ 5 ----------------\n",
    "average precision: 0.5719\n",
    "\n",
    "\n",
    "m05_f8 val_f1\n"
   ]
  },
  {
   "cell_type": "code",
   "execution_count": null,
   "metadata": {},
   "outputs": [],
   "source": []
  },
  {
   "cell_type": "code",
   "execution_count": null,
   "metadata": {},
   "outputs": [],
   "source": []
  }
 ],
 "metadata": {
  "kernelspec": {
   "display_name": "Python 3",
   "language": "python",
   "name": "python3"
  },
  "language_info": {
   "codemirror_mode": {
    "name": "ipython",
    "version": 3
   },
   "file_extension": ".py",
   "mimetype": "text/x-python",
   "name": "python",
   "nbconvert_exporter": "python",
   "pygments_lexer": "ipython3",
   "version": "3.5.5"
  },
  "toc": {
   "base_numbering": 1,
   "nav_menu": {},
   "number_sections": true,
   "sideBar": true,
   "skip_h1_title": false,
   "title_cell": "Table of Contents",
   "title_sidebar": "Contents",
   "toc_cell": false,
   "toc_position": {},
   "toc_section_display": true,
   "toc_window_display": false
  }
 },
 "nbformat": 4,
 "nbformat_minor": 2
}
