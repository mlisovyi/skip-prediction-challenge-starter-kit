{
 "cells": [
  {
   "cell_type": "code",
   "execution_count": 1,
   "metadata": {
    "ExecuteTime": {
     "end_time": "2018-12-22T16:43:23.464379Z",
     "start_time": "2018-12-22T16:43:20.738354Z"
    }
   },
   "outputs": [],
   "source": [
    "import pandas as pd\n",
    "import glob\n",
    "import math\n",
    "import numpy as np\n",
    "\n",
    "from helpers import *"
   ]
  },
  {
   "cell_type": "markdown",
   "metadata": {},
   "source": [
    "# Get the validation files"
   ]
  },
  {
   "cell_type": "code",
   "execution_count": 4,
   "metadata": {
    "ExecuteTime": {
     "end_time": "2018-12-22T16:43:38.614879Z",
     "start_time": "2018-12-22T16:43:38.610499Z"
    }
   },
   "outputs": [],
   "source": [
    "data_path = 'data/' # TODO: point this to your data folder\n",
    "#submission_path = data_path + 'submissions/'\n",
    "training_path = data_path + 'training_set/'\n",
    "#fin_X = sorted(glob.glob(training_path + \"X_val*.csv.gz\")) # TODO: point this to a subset of csv's in your training set\n",
    "#fin_y = sorted(glob.glob(training_path + \"y_val*.csv.gz\"))\n",
    "fins = sorted(glob.glob(training_path + \"outDD_v2_65.h5\"))"
   ]
  },
  {
   "cell_type": "code",
   "execution_count": 5,
   "metadata": {
    "ExecuteTime": {
     "end_time": "2018-12-22T16:43:38.832691Z",
     "start_time": "2018-12-22T16:43:38.828457Z"
    }
   },
   "outputs": [
    {
     "data": {
      "text/plain": [
       "['data/training_set/outDD_v2_65.h5']"
      ]
     },
     "execution_count": 5,
     "metadata": {},
     "output_type": "execute_result"
    }
   ],
   "source": [
    "fins"
   ]
  },
  {
   "cell_type": "markdown",
   "metadata": {},
   "source": [
    "# Read in the data"
   ]
  },
  {
   "cell_type": "code",
   "execution_count": 6,
   "metadata": {
    "ExecuteTime": {
     "end_time": "2018-12-22T16:48:00.295653Z",
     "start_time": "2018-12-22T16:45:45.090419Z"
    }
   },
   "outputs": [],
   "source": [
    "df_trn = pd.concat([read_log(f) for f in fins[:1]], axis=0, ignore_index=True)\n",
    "df_trn['session_id'] = df_trn['session_id'].astype('category')\n",
    "df_trn.rename({'not_skipped': 'skip_4'}, axis=1, inplace=True)\n",
    "\n",
    "n_trk=5\n",
    "X_trn, y_trn, X_trk = get_XY(df_trn, aggs, reset_index=True, \n",
    "                  list_musik_qualities_=list_musik_qualities,\n",
    "                  aggs_music_qualities_=aggs_music_qualities,\n",
    "                   i_=list(range(n_trk)))"
   ]
  },
  {
   "cell_type": "markdown",
   "metadata": {},
   "source": [
    "# Get the ground truth"
   ]
  },
  {
   "cell_type": "code",
   "execution_count": 7,
   "metadata": {
    "ExecuteTime": {
     "end_time": "2018-12-22T16:49:11.083833Z",
     "start_time": "2018-12-22T16:48:00.297619Z"
    }
   },
   "outputs": [
    {
     "name": "stderr",
     "output_type": "stream",
     "text": [
      "100%|██████████| 192201/192201 [01:05<00:00, 2955.17it/s]\n"
     ]
    }
   ],
   "source": [
    "ground_truth = pd.Series(get_y_truth(df_trn))"
   ]
  },
  {
   "cell_type": "code",
   "execution_count": 8,
   "metadata": {
    "ExecuteTime": {
     "end_time": "2018-12-22T16:49:11.098861Z",
     "start_time": "2018-12-22T16:49:11.089737Z"
    }
   },
   "outputs": [
    {
     "data": {
      "text/plain": [
       "0             [1, 0, 0, 0, 0, 1, 0]\n",
       "1    [0, 1, 1, 1, 1, 0, 0, 1, 1, 0]\n",
       "2    [0, 0, 0, 0, 0, 0, 0, 0, 1, 0]\n",
       "3             [1, 0, 1, 0, 0, 0, 0]\n",
       "4             [0, 0, 0, 0, 0, 0, 1]\n",
       "dtype: object"
      ]
     },
     "execution_count": 8,
     "metadata": {},
     "output_type": "execute_result"
    }
   ],
   "source": [
    "ground_truth.head()"
   ]
  },
  {
   "cell_type": "markdown",
   "metadata": {},
   "source": [
    "# Make predictions using pre-trained models"
   ]
  },
  {
   "cell_type": "code",
   "execution_count": 9,
   "metadata": {
    "ExecuteTime": {
     "end_time": "2018-12-22T16:49:32.077463Z",
     "start_time": "2018-12-22T16:49:11.100436Z"
    }
   },
   "outputs": [
    {
     "name": "stderr",
     "output_type": "stream",
     "text": [
      "100%|██████████| 5/5 [00:03<00:00,  1.32it/s]\n"
     ]
    }
   ],
   "source": [
    "    l_prob = []\n",
    "    for i_ in tqdm(list(range(n_trk))):\n",
    "        X = pd.concat([X_trn, X_trk[i_]], axis=1)\n",
    "\n",
    "        import pickle\n",
    "        with open('models/model_v2_m01_{}.pkl'.format(i_), 'rb') as fin:\n",
    "            mdl = pickle.load(fin)\n",
    "\n",
    "        prob_pred = mdl.predict_proba(X)[:,1]\n",
    "\n",
    "        l_prob.append(prob_pred)\n",
    "        \n",
    "    preds = pred_series_of_lists([p>0.50 for p in l_prob], ground_truth.apply(len), i_2fill=-2)"
   ]
  },
  {
   "cell_type": "code",
   "execution_count": 10,
   "metadata": {
    "ExecuteTime": {
     "end_time": "2018-12-22T16:49:32.084950Z",
     "start_time": "2018-12-22T16:49:32.079298Z"
    }
   },
   "outputs": [
    {
     "data": {
      "text/plain": [
       "0             [1, 1, 1, 1, 0, 0, 0]\n",
       "1    [1, 1, 0, 1, 0, 0, 0, 0, 0, 0]\n",
       "2    [0, 0, 0, 0, 0, 0, 0, 0, 0, 0]\n",
       "3             [1, 1, 1, 1, 1, 1, 1]\n",
       "4             [0, 0, 0, 0, 0, 0, 0]\n",
       "dtype: object"
      ]
     },
     "execution_count": 10,
     "metadata": {},
     "output_type": "execute_result"
    }
   ],
   "source": [
    "preds.head()"
   ]
  },
  {
   "cell_type": "markdown",
   "metadata": {},
   "source": [
    "# Evaluate the predictions"
   ]
  },
  {
   "cell_type": "code",
   "execution_count": 11,
   "metadata": {
    "ExecuteTime": {
     "end_time": "2018-12-22T16:49:32.730129Z",
     "start_time": "2018-12-22T16:49:32.086901Z"
    }
   },
   "outputs": [],
   "source": [
    "ap,first_pred_acc = evaluate(preds, ground_truth)"
   ]
  },
  {
   "cell_type": "code",
   "execution_count": 12,
   "metadata": {
    "ExecuteTime": {
     "end_time": "2018-12-22T16:49:32.734396Z",
     "start_time": "2018-12-22T16:49:32.731656Z"
    }
   },
   "outputs": [
    {
     "name": "stdout",
     "output_type": "stream",
     "text": [
      "average precision: 0.5570562218283442\n",
      "first prediction accuracy: 0.7699283562520486\n"
     ]
    }
   ],
   "source": [
    "print('average precision: {}'.format(ap))\n",
    "print('first prediction accuracy: {}'.format(first_pred_acc))"
   ]
  },
  {
   "cell_type": "markdown",
   "metadata": {},
   "source": [
    "# Do recursive evaluation"
   ]
  },
  {
   "cell_type": "code",
   "execution_count": 13,
   "metadata": {
    "ExecuteTime": {
     "end_time": "2018-12-22T16:51:00.028956Z",
     "start_time": "2018-12-22T16:49:32.736854Z"
    }
   },
   "outputs": [
    {
     "name": "stdout",
     "output_type": "stream",
     "text": [
      "------------ 1 ----------------\n",
      "average precision: 0.5487262694159871\n",
      "first prediction accuracy: 0.7699283562520486\n",
      "------------ 2 ----------------\n",
      "average precision: 0.5474140530667865\n",
      "first prediction accuracy: 0.7699283562520486\n",
      "------------ 3 ----------------\n",
      "average precision: 0.5508570665227629\n",
      "first prediction accuracy: 0.7699283562520486\n",
      "------------ 4 ----------------\n",
      "average precision: 0.5508776301543791\n",
      "first prediction accuracy: 0.7699283562520486\n",
      "------------ 5 ----------------\n",
      "average precision: 0.5570562218283442\n",
      "first prediction accuracy: 0.7699283562520486\n"
     ]
    }
   ],
   "source": [
    "for i in range(1,n_trk+1):\n",
    "    print('------------ {} ----------------'.format(i))\n",
    "    preds = pred_series_of_lists([l_prob[i_]>0.50 for i_ in range(i)], ground_truth.apply(len), i_2fill=-2)\n",
    "    ap,first_pred_acc = evaluate(preds, ground_truth)\n",
    "    print('average precision: {}'.format(ap))\n",
    "    print('first prediction accuracy: {}'.format(first_pred_acc))"
   ]
  },
  {
   "cell_type": "code",
   "execution_count": null,
   "metadata": {},
   "outputs": [],
   "source": []
  }
 ],
 "metadata": {
  "kernelspec": {
   "display_name": "Python 3",
   "language": "python",
   "name": "python3"
  },
  "language_info": {
   "codemirror_mode": {
    "name": "ipython",
    "version": 3
   },
   "file_extension": ".py",
   "mimetype": "text/x-python",
   "name": "python",
   "nbconvert_exporter": "python",
   "pygments_lexer": "ipython3",
   "version": "3.5.5"
  },
  "toc": {
   "base_numbering": 1,
   "nav_menu": {},
   "number_sections": true,
   "sideBar": true,
   "skip_h1_title": false,
   "title_cell": "Table of Contents",
   "title_sidebar": "Contents",
   "toc_cell": false,
   "toc_position": {},
   "toc_section_display": true,
   "toc_window_display": false
  }
 },
 "nbformat": 4,
 "nbformat_minor": 2
}
