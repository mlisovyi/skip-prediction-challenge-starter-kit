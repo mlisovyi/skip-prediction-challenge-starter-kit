{
 "cells": [
  {
   "cell_type": "code",
   "execution_count": 1,
   "metadata": {
    "ExecuteTime": {
     "end_time": "2018-12-18T12:10:58.669667Z",
     "start_time": "2018-12-18T12:10:55.342097Z"
    }
   },
   "outputs": [],
   "source": [
    "import glob\n",
    "import numpy as np # linear algebra\n",
    "import pandas as pd # data processing, CSV file I/O (e.g. pd.read_csv)\n",
    "pd.set_option('display.max_columns', 500)\n",
    "\n",
    "import dask\n",
    "import dask.dataframe as dd\n",
    "\n",
    "import keggler as kg\n",
    "\n",
    "import matplotlib.pyplot as plt\n",
    "%matplotlib inline\n",
    "import seaborn as sns\n",
    "\n",
    "import gc\n",
    "gc.enable()\n",
    "\n",
    "import warnings\n",
    "warnings.simplefilter(action='ignore', category=Warning)\n",
    "\n",
    "import os, psutil\n",
    "\n",
    "# Set up a logger to dump messages to both log file and notebook\n",
    "import logging as logging\n",
    "def ini_log(filename):\n",
    "    logger = logging.getLogger(__name__)\n",
    "    ## avoid multiple printouts due to same handlers added several times\n",
    "    if not logger.handlers:\n",
    "        logger.setLevel(logging.DEBUG)\n",
    "\n",
    "        handlers = [logging.StreamHandler(None), logging.FileHandler(filename, 'a')]\n",
    "\n",
    "        fmt=logging.Formatter('%(asctime)-15s: %(levelname)s  %(message)s')\n",
    "        for h in handlers:\n",
    "            h.setFormatter(fmt)\n",
    "            logger.addHandler(h)\n",
    "    return logger\n",
    "        \n",
    "log = ini_log('out.log')"
   ]
  },
  {
   "cell_type": "code",
   "execution_count": 8,
   "metadata": {
    "ExecuteTime": {
     "end_time": "2018-12-18T12:11:17.208559Z",
     "start_time": "2018-12-18T12:11:17.199218Z"
    }
   },
   "outputs": [
    {
     "data": {
      "text/plain": [
       "<dask.config.set at 0x7f54b95456a0>"
      ]
     },
     "execution_count": 8,
     "metadata": {},
     "output_type": "execute_result"
    }
   ],
   "source": [
    "from multiprocessing.pool import ThreadPool\n",
    "import dask\n",
    "dask.config.set(pool=ThreadPool(5))"
   ]
  },
  {
   "cell_type": "code",
   "execution_count": 3,
   "metadata": {
    "ExecuteTime": {
     "end_time": "2018-12-18T12:10:58.689939Z",
     "start_time": "2018-12-18T12:10:58.685941Z"
    }
   },
   "outputs": [],
   "source": [
    "data_path = 'data/' # point this to your data folder\n",
    "test_path = data_path + 'test_set/'\n",
    "submission_path = data_path + 'submissions/'\n",
    "test_input_logs = sorted(glob.glob(test_path + \"log_input_*.csv.gz\"))\n",
    "test_prehi_logs = sorted(glob.glob(test_path + \"log_prehistory_*.csv.gz\"))"
   ]
  },
  {
   "cell_type": "code",
   "execution_count": 4,
   "metadata": {
    "ExecuteTime": {
     "end_time": "2018-12-18T12:10:58.772594Z",
     "start_time": "2018-12-18T12:10:58.691482Z"
    }
   },
   "outputs": [],
   "source": [
    "dd_tst = dd.read_csv(test_prehi_logs[:],\n",
    "                     usecols=[0,1,2,5], \n",
    "                     compression='gzip')"
   ]
  },
  {
   "cell_type": "code",
   "execution_count": 13,
   "metadata": {
    "ExecuteTime": {
     "end_time": "2018-12-18T11:44:17.128172Z",
     "start_time": "2018-12-18T11:44:17.125962Z"
    }
   },
   "outputs": [],
   "source": [
    "# dd_tst.head(50)"
   ]
  },
  {
   "cell_type": "code",
   "execution_count": 6,
   "metadata": {
    "ExecuteTime": {
     "end_time": "2018-12-18T10:27:47.865826Z",
     "start_time": "2018-12-18T10:27:47.840903Z"
    }
   },
   "outputs": [],
   "source": [
    "last_played_track = dd_tst.groupby('session_id').last()"
   ]
  },
  {
   "cell_type": "code",
   "execution_count": 10,
   "metadata": {
    "ExecuteTime": {
     "end_time": "2018-12-18T10:47:35.969667Z",
     "start_time": "2018-12-18T10:47:35.961300Z"
    }
   },
   "outputs": [],
   "source": [
    "sub = last_played_track['skip_2'].astype(np.uint8).astype(str) * (last_played_track['session_length'] - last_played_track['session_position'])"
   ]
  },
  {
   "cell_type": "code",
   "execution_count": 11,
   "metadata": {
    "ExecuteTime": {
     "end_time": "2018-12-18T10:54:37.452996Z",
     "start_time": "2018-12-18T10:47:38.059882Z"
    }
   },
   "outputs": [
    {
     "data": {
      "text/plain": [
       "['data/submissions//sub_last_played_0.csv']"
      ]
     },
     "execution_count": 11,
     "metadata": {},
     "output_type": "execute_result"
    }
   ],
   "source": [
    "sub.to_csv(submission_path+'/sub_last_played_*.csv', index=False)"
   ]
  },
  {
   "cell_type": "markdown",
   "metadata": {},
   "source": [
    "Single GB operation in 3 threads: `7m`, memory jumps around"
   ]
  },
  {
   "cell_type": "code",
   "execution_count": 5,
   "metadata": {
    "ExecuteTime": {
     "end_time": "2018-12-18T12:11:07.097986Z",
     "start_time": "2018-12-18T12:11:07.094756Z"
    }
   },
   "outputs": [],
   "source": [
    "def get_last_test_track_per_session(df_, col_):\n",
    "    return df_.groupby(col_).last()"
   ]
  },
  {
   "cell_type": "code",
   "execution_count": 6,
   "metadata": {
    "ExecuteTime": {
     "end_time": "2018-12-18T12:11:07.636507Z",
     "start_time": "2018-12-18T12:11:07.626234Z"
    }
   },
   "outputs": [],
   "source": [
    "last_played_track = dd_tst.map_partitions(get_last_test_track_per_session, col_='session_id')"
   ]
  },
  {
   "cell_type": "code",
   "execution_count": 7,
   "metadata": {
    "ExecuteTime": {
     "end_time": "2018-12-18T12:11:08.603818Z",
     "start_time": "2018-12-18T12:11:08.596121Z"
    }
   },
   "outputs": [],
   "source": [
    "sub = last_played_track['skip_2'].astype(np.uint8).astype(str) * (last_played_track['session_length'] - last_played_track['session_position'])"
   ]
  },
  {
   "cell_type": "code",
   "execution_count": 9,
   "metadata": {
    "ExecuteTime": {
     "end_time": "2018-12-18T12:18:14.109072Z",
     "start_time": "2018-12-18T12:11:31.031016Z"
    }
   },
   "outputs": [
    {
     "data": {
      "text/plain": [
       "['data/submissions//sub_last_played_mp_0.csv']"
      ]
     },
     "execution_count": 9,
     "metadata": {},
     "output_type": "execute_result"
    }
   ],
   "source": [
    "sub.repartition(npartitions=1).to_csv(submission_path+'/sub_last_played_mp_*.csv', index=False)"
   ]
  },
  {
   "cell_type": "markdown",
   "metadata": {},
   "source": [
    "GB operation on each partition separately:\n",
    "- 3 threads `8 m`;\n",
    "- 5 threads `6 m 45`"
   ]
  },
  {
   "cell_type": "code",
   "execution_count": null,
   "metadata": {},
   "outputs": [],
   "source": []
  }
 ],
 "metadata": {
  "kernelspec": {
   "display_name": "Python 3",
   "language": "python",
   "name": "python3"
  },
  "language_info": {
   "codemirror_mode": {
    "name": "ipython",
    "version": 3
   },
   "file_extension": ".py",
   "mimetype": "text/x-python",
   "name": "python",
   "nbconvert_exporter": "python",
   "pygments_lexer": "ipython3",
   "version": "3.5.5"
  },
  "toc": {
   "base_numbering": 1,
   "nav_menu": {},
   "number_sections": true,
   "sideBar": true,
   "skip_h1_title": false,
   "title_cell": "Table of Contents",
   "title_sidebar": "Contents",
   "toc_cell": false,
   "toc_position": {},
   "toc_section_display": true,
   "toc_window_display": false
  }
 },
 "nbformat": 4,
 "nbformat_minor": 2
}
